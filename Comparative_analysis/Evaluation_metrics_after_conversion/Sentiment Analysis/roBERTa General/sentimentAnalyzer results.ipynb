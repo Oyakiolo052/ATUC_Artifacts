{
 "cells": [
  {
   "cell_type": "code",
   "execution_count": null,
   "id": "a804e641-aa2e-4a9c-afcc-4f4adaffebef",
   "metadata": {},
   "outputs": [],
   "source": [
    "#Willcoxon signed rank test for Roberta"
   ]
  },
  {
   "cell_type": "code",
   "execution_count": 29,
   "id": "1422c4a7-7518-4474-98d7-73487fa609c5",
   "metadata": {},
   "outputs": [
    {
     "name": "stdout",
     "output_type": "stream",
     "text": [
      "1223 1559\n",
      "Sentiment Improvement: 336\n",
      "T-statistic: -7.829639041487444\n",
      "P-value: 6.2202314671054384e-15\n",
      "Hypothesis: Reject null hypothesis: There is a significant impact on sentiment.\n",
      "Percentage Improvement/Decrement: 27.47342600163532%\n"
     ]
    }
   ],
   "source": [
    "import pandas as pd\n",
    "from scipy import stats\n",
    "import random\n",
    "\n",
    "# Load your CSV files with sentiment labels\n",
    "uncivil_df = pd.read_csv(\"/u1/mdr614/ATUC_Final/Conversion_uncivil_to_civil_random_2000/Evaluation_metrics_after_conversion/Sentiment Analysis/roBERTa General/Output/sentiments_by_original_random2000.csv\")\n",
    "civil_df1 = pd.read_csv(\"/u1/mdr614/ATUC_Final/Conversion_uncivil_to_civil_random_2000/Evaluation_metrics_after_conversion/Sentiment Analysis/roBERTa General/Output/sentiments_by_gpt4_random2000.csv\")\n",
    "\n",
    "# Define a mapping of sentiment labels to numerical scores\n",
    "sentiment_mapping = {\"positive\": 2, \"negative\": 0, \"neutral\": 1}\n",
    "\n",
    "# Convert sentiment labels to numerical scores in both dataframes\n",
    "uncivil_df['sentiment_score'] = uncivil_df['sentiment_label'].map(sentiment_mapping)\n",
    "civil_df1['sentiment_score'] = civil_df1['sentiment_label'].map(sentiment_mapping)\n",
    "\n",
    "#print(uncivil_df.shape,civil_df1.shape)\n",
    "\n",
    "civil_df = civil_df1\n",
    "\n",
    "\n",
    "\n",
    "# Calculate the sum of sentiment scores for uncivil and civil comments\n",
    "uncivil_sum_score = uncivil_df['sentiment_score'].sum()\n",
    "civil_sum_score = civil_df['sentiment_score'].sum()\n",
    "\n",
    "print(uncivil_sum_score,civil_sum_score)\n",
    "\n",
    "# Calculate the sentiment improvement\n",
    "sentiment_improvement = civil_sum_score - uncivil_sum_score\n",
    "\n",
    "# Perform a t-test to check for significance\n",
    "t_statistic, p_value = stats.ttest_ind(uncivil_df['sentiment_score'], civil_df['sentiment_score'])\n",
    "\n",
    "# Define the significance level\n",
    "alpha = 0.05\n",
    "\n",
    "# Determine the hypothesis\n",
    "if p_value < alpha:\n",
    "    hypothesis = \"Reject null hypothesis: There is a significant impact on sentiment.\"\n",
    "else:\n",
    "    hypothesis = \"Fail to reject null hypothesis: There is no significant impact on sentiment.\"\n",
    "\n",
    "# Calculate the percentage of improvement or decrement\n",
    "percentage_improvement = (sentiment_improvement / uncivil_sum_score) * 100\n",
    "\n",
    "print(f\"Sentiment Improvement: {sentiment_improvement}\")\n",
    "print(f\"T-statistic: {t_statistic}\")\n",
    "print(f\"P-value: {p_value}\")\n",
    "print(f\"Hypothesis: {hypothesis}\")\n",
    "print(f\"Percentage Improvement/Decrement: {percentage_improvement}%\")\n"
   ]
  },
  {
   "cell_type": "code",
   "execution_count": null,
   "id": "475ba6ca-8d31-492c-bcdb-d23d9d52147f",
   "metadata": {},
   "outputs": [],
   "source": []
  }
 ],
 "metadata": {
  "kernelspec": {
   "display_name": "Python 3 (ipykernel)",
   "language": "python",
   "name": "python3"
  },
  "language_info": {
   "codemirror_mode": {
    "name": "ipython",
    "version": 3
   },
   "file_extension": ".py",
   "mimetype": "text/x-python",
   "name": "python",
   "nbconvert_exporter": "python",
   "pygments_lexer": "ipython3",
   "version": "3.8.17"
  }
 },
 "nbformat": 4,
 "nbformat_minor": 5
}
