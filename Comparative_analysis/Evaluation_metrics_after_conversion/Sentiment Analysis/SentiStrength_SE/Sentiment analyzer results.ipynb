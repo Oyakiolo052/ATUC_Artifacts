{
 "cells": [
  {
   "cell_type": "code",
   "execution_count": 2,
   "id": "c75f1adc-0137-4b60-bbee-01f3f071bdc3",
   "metadata": {},
   "outputs": [],
   "source": [
    "def extract_last_digit(s):\n",
    "    if isinstance(s, str):\n",
    "        try:\n",
    "            last_digit = int(s.strip().split()[-1])\n",
    "            return last_digit\n",
    "        except (ValueError, IndexError):\n",
    "            return np.nan\n",
    "    else:\n",
    "        return np.nan\n",
    "\n",
    "# Function to extract the last digit\n",
    "def extract_last_digit1(value):\n",
    "    if isinstance(value, str):\n",
    "        tokens = value.split()\n",
    "        if tokens:\n",
    "            return int(tokens[-1])\n",
    "    return np.nan"
   ]
  },
  {
   "cell_type": "code",
   "execution_count": 37,
   "id": "8f5c3894-3e93-4277-8fd5-94f7edb8a32a",
   "metadata": {
    "scrolled": true
   },
   "outputs": [
    {
     "ename": "KeyError",
     "evalue": "'sentiment'",
     "output_type": "error",
     "traceback": [
      "\u001b[0;31m---------------------------------------------------------------------------\u001b[0m",
      "\u001b[0;31mKeyError\u001b[0m                                  Traceback (most recent call last)",
      "File \u001b[0;32m~/anaconda3/envs/toxic_gru/lib/python3.8/site-packages/pandas/core/indexes/base.py:3802\u001b[0m, in \u001b[0;36mIndex.get_loc\u001b[0;34m(self, key, method, tolerance)\u001b[0m\n\u001b[1;32m   3801\u001b[0m \u001b[38;5;28;01mtry\u001b[39;00m:\n\u001b[0;32m-> 3802\u001b[0m     \u001b[38;5;28;01mreturn\u001b[39;00m \u001b[38;5;28;43mself\u001b[39;49m\u001b[38;5;241;43m.\u001b[39;49m\u001b[43m_engine\u001b[49m\u001b[38;5;241;43m.\u001b[39;49m\u001b[43mget_loc\u001b[49m\u001b[43m(\u001b[49m\u001b[43mcasted_key\u001b[49m\u001b[43m)\u001b[49m\n\u001b[1;32m   3803\u001b[0m \u001b[38;5;28;01mexcept\u001b[39;00m \u001b[38;5;167;01mKeyError\u001b[39;00m \u001b[38;5;28;01mas\u001b[39;00m err:\n",
      "File \u001b[0;32m~/anaconda3/envs/toxic_gru/lib/python3.8/site-packages/pandas/_libs/index.pyx:138\u001b[0m, in \u001b[0;36mpandas._libs.index.IndexEngine.get_loc\u001b[0;34m()\u001b[0m\n",
      "File \u001b[0;32m~/anaconda3/envs/toxic_gru/lib/python3.8/site-packages/pandas/_libs/index.pyx:165\u001b[0m, in \u001b[0;36mpandas._libs.index.IndexEngine.get_loc\u001b[0;34m()\u001b[0m\n",
      "File \u001b[0;32mpandas/_libs/hashtable_class_helper.pxi:5745\u001b[0m, in \u001b[0;36mpandas._libs.hashtable.PyObjectHashTable.get_item\u001b[0;34m()\u001b[0m\n",
      "File \u001b[0;32mpandas/_libs/hashtable_class_helper.pxi:5753\u001b[0m, in \u001b[0;36mpandas._libs.hashtable.PyObjectHashTable.get_item\u001b[0;34m()\u001b[0m\n",
      "\u001b[0;31mKeyError\u001b[0m: 'sentiment'",
      "\nThe above exception was the direct cause of the following exception:\n",
      "\u001b[0;31mKeyError\u001b[0m                                  Traceback (most recent call last)",
      "Cell \u001b[0;32mIn[37], line 13\u001b[0m\n\u001b[1;32m     10\u001b[0m \u001b[38;5;66;03m#print(uncivil_df.shape,civil_df1.shape)\u001b[39;00m\n\u001b[1;32m     11\u001b[0m \u001b[38;5;66;03m# Convert sentiment labels to numerical scores in both dataframes\u001b[39;00m\n\u001b[1;32m     12\u001b[0m uncivil_df[\u001b[38;5;124m'\u001b[39m\u001b[38;5;124msentiment_score\u001b[39m\u001b[38;5;124m'\u001b[39m] \u001b[38;5;241m=\u001b[39m uncivil_df[\u001b[38;5;124m'\u001b[39m\u001b[38;5;124msentiment\u001b[39m\u001b[38;5;124m'\u001b[39m]\u001b[38;5;241m.\u001b[39mapply(extract_last_digit1)\n\u001b[0;32m---> 13\u001b[0m civil_df1[\u001b[38;5;124m'\u001b[39m\u001b[38;5;124msentiment_score\u001b[39m\u001b[38;5;124m'\u001b[39m] \u001b[38;5;241m=\u001b[39m \u001b[43mcivil_df1\u001b[49m\u001b[43m[\u001b[49m\u001b[38;5;124;43m'\u001b[39;49m\u001b[38;5;124;43msentiment\u001b[39;49m\u001b[38;5;124;43m'\u001b[39;49m\u001b[43m]\u001b[49m\u001b[38;5;241m.\u001b[39mapply(extract_last_digit1)\n\u001b[1;32m     15\u001b[0m \u001b[38;5;28mprint\u001b[39m(uncivil_df,civil_df1)\n\u001b[1;32m     18\u001b[0m civil_df \u001b[38;5;241m=\u001b[39m civil_df1\n",
      "File \u001b[0;32m~/anaconda3/envs/toxic_gru/lib/python3.8/site-packages/pandas/core/frame.py:3807\u001b[0m, in \u001b[0;36mDataFrame.__getitem__\u001b[0;34m(self, key)\u001b[0m\n\u001b[1;32m   3805\u001b[0m \u001b[38;5;28;01mif\u001b[39;00m \u001b[38;5;28mself\u001b[39m\u001b[38;5;241m.\u001b[39mcolumns\u001b[38;5;241m.\u001b[39mnlevels \u001b[38;5;241m>\u001b[39m \u001b[38;5;241m1\u001b[39m:\n\u001b[1;32m   3806\u001b[0m     \u001b[38;5;28;01mreturn\u001b[39;00m \u001b[38;5;28mself\u001b[39m\u001b[38;5;241m.\u001b[39m_getitem_multilevel(key)\n\u001b[0;32m-> 3807\u001b[0m indexer \u001b[38;5;241m=\u001b[39m \u001b[38;5;28;43mself\u001b[39;49m\u001b[38;5;241;43m.\u001b[39;49m\u001b[43mcolumns\u001b[49m\u001b[38;5;241;43m.\u001b[39;49m\u001b[43mget_loc\u001b[49m\u001b[43m(\u001b[49m\u001b[43mkey\u001b[49m\u001b[43m)\u001b[49m\n\u001b[1;32m   3808\u001b[0m \u001b[38;5;28;01mif\u001b[39;00m is_integer(indexer):\n\u001b[1;32m   3809\u001b[0m     indexer \u001b[38;5;241m=\u001b[39m [indexer]\n",
      "File \u001b[0;32m~/anaconda3/envs/toxic_gru/lib/python3.8/site-packages/pandas/core/indexes/base.py:3804\u001b[0m, in \u001b[0;36mIndex.get_loc\u001b[0;34m(self, key, method, tolerance)\u001b[0m\n\u001b[1;32m   3802\u001b[0m     \u001b[38;5;28;01mreturn\u001b[39;00m \u001b[38;5;28mself\u001b[39m\u001b[38;5;241m.\u001b[39m_engine\u001b[38;5;241m.\u001b[39mget_loc(casted_key)\n\u001b[1;32m   3803\u001b[0m \u001b[38;5;28;01mexcept\u001b[39;00m \u001b[38;5;167;01mKeyError\u001b[39;00m \u001b[38;5;28;01mas\u001b[39;00m err:\n\u001b[0;32m-> 3804\u001b[0m     \u001b[38;5;28;01mraise\u001b[39;00m \u001b[38;5;167;01mKeyError\u001b[39;00m(key) \u001b[38;5;28;01mfrom\u001b[39;00m \u001b[38;5;21;01merr\u001b[39;00m\n\u001b[1;32m   3805\u001b[0m \u001b[38;5;28;01mexcept\u001b[39;00m \u001b[38;5;167;01mTypeError\u001b[39;00m:\n\u001b[1;32m   3806\u001b[0m     \u001b[38;5;66;03m# If we have a listlike key, _check_indexing_error will raise\u001b[39;00m\n\u001b[1;32m   3807\u001b[0m     \u001b[38;5;66;03m#  InvalidIndexError. Otherwise we fall through and re-raise\u001b[39;00m\n\u001b[1;32m   3808\u001b[0m     \u001b[38;5;66;03m#  the TypeError.\u001b[39;00m\n\u001b[1;32m   3809\u001b[0m     \u001b[38;5;28mself\u001b[39m\u001b[38;5;241m.\u001b[39m_check_indexing_error(key)\n",
      "\u001b[0;31mKeyError\u001b[0m: 'sentiment'"
     ]
    }
   ],
   "source": [
    "import pandas as pd\n",
    "from scipy import stats\n",
    "import random\n",
    "import numpy as np\n",
    "\n",
    "# Load your CSV files with sentiment labels\n",
    "uncivil_df = pd.read_csv(\"/u1/mdr614/ATUC_Final/Conversion_uncivil_to_civil_random_2000/Evaluation_metrics_after_conversion/Sentiment Analysis/SentiStrength_SE/Output/original_random2000_SentiStrength.csv\")\n",
    "civil_df1 = pd.read_csv(\"/u1/mdr614/ATUC_Final/Conversion_uncivil_to_civil_random_2000/Evaluation_metrics_after_conversion/Sentiment Analysis/SentiStrength_SE/Output/GPT4_SentiStrength.csv\")\n",
    "\n",
    "#print(uncivil_df.shape,civil_df1.shape)\n",
    "# Convert sentiment labels to numerical scores in both dataframes\n",
    "uncivil_df['sentiment_score'] = uncivil_df['sentiment'].apply(extract_last_digit1)\n",
    "civil_df1['sentiment_score'] = civil_df1['sentiment'].apply(extract_last_digit1)\n",
    "\n",
    "print(uncivil_df,civil_df1)\n",
    "\n",
    "\n",
    "civil_df = civil_df1\n",
    "\n",
    "print(uncivil_df.shape,civil_df.shape)\n",
    "\n",
    "# Calculate the sum of sentiment scores for uncivil and civil comments\n",
    "uncivil_sum_score = uncivil_df['sentiment_score'].sum()\n",
    "civil_sum_score = civil_df['sentiment_score'].sum()\n",
    "\n",
    "print(uncivil_sum_score,civil_sum_score)\n",
    "\n",
    "# Calculate the sentiment improvement\n",
    "sentiment_improvement = civil_sum_score - uncivil_sum_score\n",
    "\n",
    "# Perform a t-test to check for significance\n",
    "t_statistic, p_value = stats.ttest_ind(uncivil_df['sentiment_score'], civil_df['sentiment_score'])\n",
    "\n",
    "# Define the significance level\n",
    "alpha = 0.05\n",
    "\n",
    "# Determine the hypothesis\n",
    "if p_value < alpha:\n",
    "    hypothesis = \"Reject null hypothesis: There is a significant impact on sentiment.\"\n",
    "else:\n",
    "    hypothesis = \"Fail to reject null hypothesis: There is no significant impact on sentiment.\"\n",
    "\n",
    "# Calculate the percentage of improvement or decrement\n",
    "percentage_improvement = (sentiment_improvement / uncivil_sum_score) * 100\n",
    "\n",
    "print(f\"Sentiment Improvement: {sentiment_improvement}\")\n",
    "print(f\"T-statistic: {t_statistic}\")\n",
    "print(f\"P-value: {p_value}\")\n",
    "print(f\"Hypothesis: {hypothesis}\")\n",
    "print(f\"Percentage Improvement/Decrement: {percentage_improvement}%\")\n"
   ]
  },
  {
   "cell_type": "code",
   "execution_count": null,
   "id": "bc7eca91-923c-4312-9322-34e1b92009eb",
   "metadata": {},
   "outputs": [],
   "source": []
  }
 ],
 "metadata": {
  "kernelspec": {
   "display_name": "Python 3 (ipykernel)",
   "language": "python",
   "name": "python3"
  },
  "language_info": {
   "codemirror_mode": {
    "name": "ipython",
    "version": 3
   },
   "file_extension": ".py",
   "mimetype": "text/x-python",
   "name": "python",
   "nbconvert_exporter": "python",
   "pygments_lexer": "ipython3",
   "version": "3.8.17"
  }
 },
 "nbformat": 4,
 "nbformat_minor": 5
}
